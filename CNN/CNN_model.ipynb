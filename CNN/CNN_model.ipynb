{
 "cells": [
  {
   "cell_type": "markdown",
   "metadata": {},
   "source": [
    "## CNN model"
   ]
  },
  {
   "cell_type": "code",
   "execution_count": 1,
   "metadata": {
    "collapsed": true
   },
   "outputs": [],
   "source": [
    "import tensorflow as tf\n",
    "import matplotlib.pyplot as plt\n",
    "%matplotlib inline"
   ]
  },
  {
   "cell_type": "code",
   "execution_count": 2,
   "metadata": {},
   "outputs": [
    {
     "name": "stdout",
     "output_type": "stream",
     "text": [
      "Extracting /tmp/data/train-images-idx3-ubyte.gz\n",
      "Extracting /tmp/data/train-labels-idx1-ubyte.gz\n",
      "Extracting /tmp/data/t10k-images-idx3-ubyte.gz\n",
      "Extracting /tmp/data/t10k-labels-idx1-ubyte.gz\n"
     ]
    }
   ],
   "source": [
    "from tensorflow.examples.tutorials.mnist import input_data\n",
    "mnist = input_data.read_data_sets(\"/tmp/data/\", one_hot=True)"
   ]
  },
  {
   "cell_type": "markdown",
   "metadata": {},
   "source": [
    "### 模型架構參考:python機器學習與深度學習實作教材範例"
   ]
  },
  {
   "cell_type": "code",
   "execution_count": 3,
   "metadata": {
    "collapsed": true
   },
   "outputs": [],
   "source": [
    "input_dim = 28*28\n",
    "output_dim = 10"
   ]
  },
  {
   "cell_type": "code",
   "execution_count": 4,
   "metadata": {
    "collapsed": true
   },
   "outputs": [],
   "source": [
    "x = tf.placeholder(\"float\",[None, input_dim])\n",
    "y = tf.placeholder(\"float\",[None, output_dim])"
   ]
  },
  {
   "cell_type": "code",
   "execution_count": 5,
   "metadata": {
    "collapsed": true
   },
   "outputs": [],
   "source": [
    "x_image = tf.reshape(x, [-1, 28, 28, 1])"
   ]
  },
  {
   "cell_type": "code",
   "execution_count": 6,
   "metadata": {
    "collapsed": true
   },
   "outputs": [],
   "source": [
    "with tf.name_scope('Convolution_layer1'):\n",
    "    W_conv1 = tf.Variable(tf.random_normal([5, 5, 1, 16]), name='Conv1_weight')\n",
    "    b_conv1 = tf.Variable(tf.random_normal([16]), name='Conv1_bias')\n",
    "    \n",
    "    conv1 = tf.nn.relu(tf.add(tf.nn.conv2d(x_image, W_conv1, strides=[1, 1, 1, 1], padding='SAME'), b_conv1))\n",
    "    \n",
    "    tf.summary.histogram(\"conv1\", conv1)\n",
    "\n",
    "with tf.name_scope('Max-pooling_layer1'):\n",
    "    max_pool1 = tf.nn.max_pool(conv1, ksize=[1, 2, 2, 1], strides=[1, 2, 2, 1], padding='SAME')\n",
    "    tf.summary.histogram(\"max_pool1\", max_pool1)"
   ]
  },
  {
   "cell_type": "code",
   "execution_count": 7,
   "metadata": {
    "collapsed": true
   },
   "outputs": [],
   "source": [
    "with tf.name_scope('Convolution_layer2'):\n",
    "    W_conv2 = tf.Variable(tf.random_normal([5, 5, 16, 36]), name='Conv2_weight')\n",
    "    b_conv2 = tf.Variable(tf.random_normal([36]), name='Conv2_bias')\n",
    "    \n",
    "    conv2 = tf.nn.relu(tf.add(tf.nn.conv2d(max_pool1, W_conv2, strides=[1, 1, 1, 1], padding='SAME'), b_conv2))\n",
    "    \n",
    "    tf.summary.histogram(\"conv2\", conv2)\n",
    "    \n",
    "with tf.name_scope('Max-pooling_layer2'):\n",
    "    max_pool2 = tf.nn.max_pool(conv2, ksize=[1, 2, 2, 1], strides=[1, 2, 2, 1], padding='SAME')\n",
    "    tf.summary.histogram(\"max_pool2\", max_pool2)"
   ]
  },
  {
   "cell_type": "code",
   "execution_count": 8,
   "metadata": {
    "collapsed": true
   },
   "outputs": [],
   "source": [
    "with tf.name_scope('Flatten_layer'):\n",
    "    flatten = tf.reshape(max_pool2, [-1, 7 * 7 * 36])"
   ]
  },
  {
   "cell_type": "code",
   "execution_count": 9,
   "metadata": {
    "collapsed": true
   },
   "outputs": [],
   "source": [
    "learning_rate = 0.001\n",
    "training_epochs = 100\n",
    "batch_size = 200"
   ]
  },
  {
   "cell_type": "code",
   "execution_count": 10,
   "metadata": {
    "collapsed": true
   },
   "outputs": [],
   "source": [
    "MLP_input_dim = 7*7*36\n",
    "hidden1_dim = 256\n",
    "hidden2_dim = 256"
   ]
  },
  {
   "cell_type": "code",
   "execution_count": 11,
   "metadata": {
    "collapsed": true
   },
   "outputs": [],
   "source": [
    "with tf.name_scope('InputLayer_to_HiddenLayer1'):\n",
    "    # input layer to hidden layer 1\n",
    "    w1 = tf.Variable(tf.random_normal([MLP_input_dim, hidden1_dim]),name='weight1')\n",
    "    b1 = tf.Variable(tf.random_normal([hidden1_dim]),name='bias1')\n",
    "    a1 = tf.nn.relu(tf.add(tf.matmul(flatten,w1),b1))\n",
    "    \n",
    "    # add summary\n",
    "    tf.summary.histogram(\"w1\", w1)\n",
    "    tf.summary.histogram(\"b1\", b1)\n",
    "    tf.summary.histogram(\"a1\", a1)"
   ]
  },
  {
   "cell_type": "code",
   "execution_count": 12,
   "metadata": {
    "collapsed": true
   },
   "outputs": [],
   "source": [
    "with tf.name_scope('HiddenLayer1_to_HiddenLayer2'):\n",
    "    # input layer to hidden layer 2\n",
    "    w2 = tf.Variable(tf.random_normal([hidden1_dim, hidden2_dim]),name='weight2')\n",
    "    b2 = tf.Variable(tf.random_normal([hidden2_dim]),name='bias2')\n",
    "    a2 = tf.nn.relu(tf.add(tf.matmul(a1,w2),b2))\n",
    "    \n",
    "    # add summary\n",
    "    tf.summary.histogram(\"w2\", w2)\n",
    "    tf.summary.histogram(\"b2\", b2)\n",
    "    tf.summary.histogram(\"a2\", a2)"
   ]
  },
  {
   "cell_type": "code",
   "execution_count": 13,
   "metadata": {
    "collapsed": true
   },
   "outputs": [],
   "source": [
    "with tf.name_scope('HiddenLayer2_to_OutputLayer'):\n",
    "    # hidden layer 2 to output layer\n",
    "    w3 = tf.Variable(tf.random_normal([hidden2_dim, output_dim]),name='weight3')\n",
    "    b3 = tf.Variable(tf.random_normal([output_dim]),name='bias3')\n",
    "    y_pred = tf.add(tf.matmul(a2,w3),b3)\n",
    "\n",
    "    # add summary\n",
    "    tf.summary.histogram(\"w3\", w3)\n",
    "    tf.summary.histogram(\"b3\", b3)\n",
    "    tf.summary.histogram(\"y_pred\", y_pred)"
   ]
  },
  {
   "cell_type": "code",
   "execution_count": 14,
   "metadata": {
    "collapsed": true
   },
   "outputs": [],
   "source": [
    "with tf.name_scope('Loss'):\n",
    "    loss = tf.reduce_mean(tf.nn.softmax_cross_entropy_with_logits(labels=y, logits=y_pred))\n",
    "    tf.summary.scalar(\"loss\", loss)"
   ]
  },
  {
   "cell_type": "code",
   "execution_count": 15,
   "metadata": {
    "collapsed": true
   },
   "outputs": [],
   "source": [
    "with tf.name_scope('Accuracy'):\n",
    "    correct_prediction = tf.equal(tf.argmax(y_pred, 1), tf.argmax(y, 1))\n",
    "    accuracy = tf.reduce_mean(tf.cast(correct_prediction, \"float\"))\n",
    "    tf.summary.scalar(\"accuracy\", accuracy)"
   ]
  },
  {
   "cell_type": "code",
   "execution_count": 16,
   "metadata": {
    "collapsed": true
   },
   "outputs": [],
   "source": [
    "with tf.name_scope('Optimizer'):\n",
    "    optimizer = tf.train.AdamOptimizer(learning_rate=learning_rate).minimize(loss) "
   ]
  },
  {
   "cell_type": "code",
   "execution_count": 17,
   "metadata": {
    "collapsed": true
   },
   "outputs": [],
   "source": [
    "merged_summary = tf.summary.merge_all()"
   ]
  },
  {
   "cell_type": "code",
   "execution_count": 18,
   "metadata": {},
   "outputs": [
    {
     "name": "stdout",
     "output_type": "stream",
     "text": [
      "Epoch: 1 , loss= 4255.21 , acc= 0.855 , val_loss= 3081.35 , val_acc= 0.885\n",
      "Epoch: 2 , loss= 1834.16 , acc= 0.925 , val_loss= 2006.36 , val_acc= 0.93\n",
      "Epoch: 3 , loss= 1699.72 , acc= 0.93 , val_loss= 2039.93 , val_acc= 0.935\n",
      "Epoch: 4 , loss= 1115.6 , acc= 0.95 , val_loss= 1832.42 , val_acc= 0.935\n",
      "Epoch: 5 , loss= 996.502 , acc= 0.945 , val_loss= 606.497 , val_acc= 0.97\n",
      "Epoch: 6 , loss= 1001.92 , acc= 0.94 , val_loss= 1703.74 , val_acc= 0.93\n",
      "Epoch: 7 , loss= 809.411 , acc= 0.94 , val_loss= 404.843 , val_acc= 0.96\n",
      "Epoch: 8 , loss= 1002.67 , acc= 0.925 , val_loss= 827.025 , val_acc= 0.96\n",
      "Epoch: 9 , loss= 467.752 , acc= 0.97 , val_loss= 819.3 , val_acc= 0.965\n",
      "Epoch: 10 , loss= 439.463 , acc= 0.97 , val_loss= 673.551 , val_acc= 0.965\n",
      "Epoch: 11 , loss= 598.857 , acc= 0.97 , val_loss= 479.645 , val_acc= 0.975\n",
      "Epoch: 12 , loss= 261.232 , acc= 0.955 , val_loss= 718.547 , val_acc= 0.96\n",
      "Epoch: 13 , loss= 314.118 , acc= 0.97 , val_loss= 393.53 , val_acc= 0.98\n",
      "Epoch: 14 , loss= 102.785 , acc= 0.995 , val_loss= 2.65699 , val_acc= 0.99\n",
      "Epoch: 15 , loss= 8.11664 , acc= 0.995 , val_loss= 121.704 , val_acc= 0.99\n",
      "Epoch: 16 , loss= 240.883 , acc= 0.97 , val_loss= 721.204 , val_acc= 0.965\n",
      "Epoch: 17 , loss= 87.0465 , acc= 0.985 , val_loss= 680.568 , val_acc= 0.95\n",
      "Epoch: 18 , loss= 206.968 , acc= 0.99 , val_loss= 811.137 , val_acc= 0.96\n",
      "Epoch: 19 , loss= 108.763 , acc= 0.99 , val_loss= 563.09 , val_acc= 0.97\n",
      "Epoch: 20 , loss= 0.0 , acc= 1.0 , val_loss= 401.715 , val_acc= 0.97\n",
      "Epoch: 21 , loss= 45.4971 , acc= 0.995 , val_loss= 237.969 , val_acc= 0.98\n",
      "Epoch: 22 , loss= 42.133 , acc= 0.995 , val_loss= 458.731 , val_acc= 0.97\n",
      "Epoch: 23 , loss= 209.054 , acc= 0.985 , val_loss= 292.959 , val_acc= 0.98\n",
      "Epoch: 24 , loss= 0.0 , acc= 1.0 , val_loss= 82.3052 , val_acc= 0.99\n",
      "Epoch: 25 , loss= 7.12469 , acc= 0.99 , val_loss= 372.531 , val_acc= 0.96\n",
      "Epoch: 26 , loss= 17.3575 , acc= 0.995 , val_loss= 408.382 , val_acc= 0.975\n",
      "Epoch: 27 , loss= 74.4307 , acc= 0.99 , val_loss= 211.119 , val_acc= 0.98\n",
      "Epoch: 28 , loss= 152.598 , acc= 0.98 , val_loss= 179.015 , val_acc= 0.98\n",
      "Epoch: 29 , loss= 1.13258 , acc= 0.995 , val_loss= 604.832 , val_acc= 0.98\n",
      "Epoch: 30 , loss= 0.0 , acc= 1.0 , val_loss= 261.644 , val_acc= 0.975\n",
      "Epoch: 31 , loss= 0.0 , acc= 1.0 , val_loss= 896.317 , val_acc= 0.955\n",
      "Epoch: 32 , loss= 18.5161 , acc= 0.995 , val_loss= 136.406 , val_acc= 0.985\n",
      "Epoch: 33 , loss= 0.0 , acc= 1.0 , val_loss= 539.124 , val_acc= 0.96\n",
      "Epoch: 34 , loss= 0.0 , acc= 1.0 , val_loss= 357.644 , val_acc= 0.975\n",
      "Epoch: 35 , loss= 0.0 , acc= 1.0 , val_loss= 484.262 , val_acc= 0.975\n",
      "Epoch: 36 , loss= 0.0 , acc= 1.0 , val_loss= 853.129 , val_acc= 0.975\n",
      "Epoch: 37 , loss= 0.0 , acc= 1.0 , val_loss= 467.073 , val_acc= 0.965\n",
      "Epoch: 38 , loss= 17.9302 , acc= 0.995 , val_loss= 459.911 , val_acc= 0.97\n",
      "Epoch: 39 , loss= 14.5381 , acc= 0.995 , val_loss= 345.18 , val_acc= 0.985\n",
      "Epoch: 40 , loss= 6.17891 , acc= 0.995 , val_loss= 246.517 , val_acc= 0.98\n",
      "Epoch: 41 , loss= 63.7806 , acc= 0.99 , val_loss= 29.8782 , val_acc= 0.99\n",
      "Epoch: 42 , loss= 0.0 , acc= 1.0 , val_loss= 103.286 , val_acc= 0.99\n",
      "Epoch: 43 , loss= 0.0 , acc= 1.0 , val_loss= 441.237 , val_acc= 0.98\n",
      "Epoch: 44 , loss= 0.0 , acc= 1.0 , val_loss= 217.061 , val_acc= 0.98\n",
      "Epoch: 45 , loss= 0.0 , acc= 1.0 , val_loss= 230.727 , val_acc= 0.985\n",
      "Epoch: 46 , loss= 0.0 , acc= 1.0 , val_loss= 359.865 , val_acc= 0.98\n",
      "Epoch: 47 , loss= 0.0 , acc= 1.0 , val_loss= 277.7 , val_acc= 0.98\n",
      "Epoch: 48 , loss= 54.811 , acc= 0.995 , val_loss= 228.285 , val_acc= 0.995\n",
      "Epoch: 49 , loss= 4.1202 , acc= 0.995 , val_loss= 368.468 , val_acc= 0.97\n",
      "Epoch: 50 , loss= 0.0 , acc= 1.0 , val_loss= 109.812 , val_acc= 0.99\n",
      "Epoch: 51 , loss= 0.0 , acc= 1.0 , val_loss= 371.975 , val_acc= 0.975\n",
      "Epoch: 52 , loss= 0.0 , acc= 1.0 , val_loss= 408.946 , val_acc= 0.98\n",
      "Epoch: 53 , loss= 0.0 , acc= 1.0 , val_loss= 448.858 , val_acc= 0.98\n",
      "Epoch: 54 , loss= 23.6633 , acc= 0.995 , val_loss= 44.8505 , val_acc= 0.995\n",
      "Epoch: 55 , loss= 0.0 , acc= 1.0 , val_loss= 383.878 , val_acc= 0.97\n",
      "Epoch: 56 , loss= 0.0 , acc= 1.0 , val_loss= 357.57 , val_acc= 0.98\n",
      "Epoch: 57 , loss= 3.95178 , acc= 0.995 , val_loss= 547.062 , val_acc= 0.99\n",
      "Epoch: 58 , loss= 0.0 , acc= 1.0 , val_loss= 553.134 , val_acc= 0.98\n",
      "Epoch: 59 , loss= 2.02254 , acc= 0.995 , val_loss= 180.932 , val_acc= 0.99\n",
      "Epoch: 60 , loss= 0.0 , acc= 1.0 , val_loss= 285.105 , val_acc= 0.97\n",
      "Epoch: 61 , loss= 0.0 , acc= 1.0 , val_loss= 681.321 , val_acc= 0.985\n",
      "Epoch: 62 , loss= 0.162891 , acc= 0.995 , val_loss= 114.036 , val_acc= 0.99\n",
      "Epoch: 63 , loss= 0.0 , acc= 1.0 , val_loss= 7.61184 , val_acc= 0.995\n",
      "Epoch: 64 , loss= 16.4598 , acc= 0.995 , val_loss= 351.492 , val_acc= 0.99\n",
      "Epoch: 65 , loss= 0.0 , acc= 1.0 , val_loss= 366.198 , val_acc= 0.975\n",
      "Epoch: 66 , loss= 0.0 , acc= 1.0 , val_loss= 415.81 , val_acc= 0.985\n",
      "Epoch: 67 , loss= 0.0 , acc= 1.0 , val_loss= 6.39277 , val_acc= 0.995\n",
      "Epoch: 68 , loss= 0.0 , acc= 1.0 , val_loss= 692.905 , val_acc= 0.98\n",
      "Epoch: 69 , loss= 0.0 , acc= 1.0 , val_loss= 289.374 , val_acc= 0.985\n",
      "Epoch: 70 , loss= 0.0 , acc= 1.0 , val_loss= 196.399 , val_acc= 0.985\n",
      "Epoch: 71 , loss= 0.0 , acc= 1.0 , val_loss= 360.183 , val_acc= 0.985\n",
      "Epoch: 72 , loss= 0.0 , acc= 1.0 , val_loss= 329.267 , val_acc= 0.985\n",
      "Epoch: 73 , loss= 0.0 , acc= 1.0 , val_loss= 460.78 , val_acc= 0.975\n",
      "Epoch: 74 , loss= 0.0 , acc= 1.0 , val_loss= 294.083 , val_acc= 0.985\n",
      "Epoch: 75 , loss= 0.0 , acc= 1.0 , val_loss= 416.239 , val_acc= 0.965\n",
      "Epoch: 76 , loss= 0.0 , acc= 1.0 , val_loss= 36.2618 , val_acc= 0.995\n",
      "Epoch: 77 , loss= 0.0 , acc= 1.0 , val_loss= 120.141 , val_acc= 0.995\n",
      "Epoch: 78 , loss= 0.0 , acc= 1.0 , val_loss= 155.484 , val_acc= 0.98\n",
      "Epoch: 79 , loss= 0.0 , acc= 1.0 , val_loss= 143.505 , val_acc= 0.99\n",
      "Epoch: 80 , loss= 0.0 , acc= 1.0 , val_loss= 457.381 , val_acc= 0.985\n",
      "Epoch: 81 , loss= 0.0 , acc= 1.0 , val_loss= 484.203 , val_acc= 0.99\n",
      "Epoch: 82 , loss= 0.0 , acc= 1.0 , val_loss= 792.315 , val_acc= 0.98\n",
      "Epoch: 83 , loss= 0.0 , acc= 1.0 , val_loss= 0.0 , val_acc= 1.0\n",
      "Epoch: 84 , loss= 0.0 , acc= 1.0 , val_loss= 171.306 , val_acc= 0.99\n",
      "Epoch: 85 , loss= 0.0 , acc= 1.0 , val_loss= 312.021 , val_acc= 0.99\n",
      "Epoch: 86 , loss= 0.0 , acc= 1.0 , val_loss= 144.31 , val_acc= 0.99\n",
      "Epoch: 87 , loss= 0.0 , acc= 1.0 , val_loss= 344.305 , val_acc= 0.98\n",
      "Epoch: 88 , loss= 0.0 , acc= 1.0 , val_loss= 533.254 , val_acc= 0.97\n",
      "Epoch: 89 , loss= 0.0 , acc= 1.0 , val_loss= 374.367 , val_acc= 0.98\n",
      "Epoch: 90 , loss= 0.0 , acc= 1.0 , val_loss= 308.197 , val_acc= 0.99\n",
      "Epoch: 91 , loss= 0.0 , acc= 1.0 , val_loss= 303.246 , val_acc= 0.98\n",
      "Epoch: 92 , loss= 0.0 , acc= 1.0 , val_loss= 116.059 , val_acc= 0.99\n",
      "Epoch: 93 , loss= 0.0 , acc= 1.0 , val_loss= 53.3994 , val_acc= 0.995\n",
      "Epoch: 94 , loss= 99.3478 , acc= 0.995 , val_loss= 48.428 , val_acc= 0.995\n",
      "Epoch: 95 , loss= 32.2394 , acc= 0.995 , val_loss= 266.289 , val_acc= 0.985\n",
      "Epoch: 96 , loss= 1.09824 , acc= 0.995 , val_loss= 56.5542 , val_acc= 0.99\n",
      "Epoch: 97 , loss= 0.0 , acc= 1.0 , val_loss= 288.596 , val_acc= 0.99\n",
      "Epoch: 98 , loss= 0.0 , acc= 1.0 , val_loss= 259.424 , val_acc= 0.975\n",
      "Epoch: 99 , loss= 0.0 , acc= 1.0 , val_loss= 787.664 , val_acc= 0.975\n",
      "Epoch: 100 , loss= 0.0 , acc= 1.0 , val_loss= 342.951 , val_acc= 0.985\n",
      "Test Accuracy: 0.9859\n"
     ]
    }
   ],
   "source": [
    "losses = []\n",
    "val_losses = []\n",
    "\n",
    "saver = tf.train.Saver()\n",
    "\n",
    "with tf.Session() as sess:\n",
    "    # 初始化Variables\n",
    "    sess.run(tf.global_variables_initializer())\n",
    "    \n",
    "    writer = tf.summary.FileWriter(\"log_cnn/\", graph=sess.graph)\n",
    "    \n",
    "    global_step = 0\n",
    "    for epoch in range(training_epochs):\n",
    "        num_batch = int(mnist.train.num_examples/batch_size)\n",
    "        \n",
    "        for i in range(num_batch):\n",
    "            batch_x_train, batch_y_train = mnist.train.next_batch(batch_size)\n",
    "            batch_x_validation, batch_y_validation = mnist.validation.next_batch(batch_size)\n",
    "            \n",
    "            # training by optimizer\n",
    "            sess.run(optimizer, feed_dict={x: batch_x_train, y: batch_y_train})\n",
    "            \n",
    "            # get training/validation loss & acc\n",
    "            batch_loss = sess.run(loss, feed_dict={x: batch_x_train, y: batch_y_train})\n",
    "            batch_acc = sess.run(accuracy, feed_dict={x: batch_x_train, y: batch_y_train})\n",
    "            batch_val_loss = sess.run(loss, feed_dict={x: batch_x_validation, y: batch_y_validation})\n",
    "            batch_val_acc = sess.run(accuracy, feed_dict={x: batch_x_validation, y: batch_y_validation})\n",
    "            \n",
    "            # 紀錄每個batch的summary並加到writer中\n",
    "            global_step += 1\n",
    "            result = sess.run(merged_summary, feed_dict={x: batch_x_train, y: batch_y_train})\n",
    "            writer.add_summary(result,global_step)\n",
    "        \n",
    "        losses.append(batch_loss)\n",
    "        val_losses.append(batch_val_loss)\n",
    "   \n",
    "        print(\"Epoch:\", '%d' % (epoch+1), \", loss=\", batch_loss, \", acc=\", batch_acc,\n",
    "              \", val_loss=\", batch_val_loss, \", val_acc=\", batch_val_acc)\n",
    "        \n",
    "            \n",
    "    # Test Dataset\n",
    "    print (\"Test Accuracy:\", sess.run(accuracy, feed_dict={x: mnist.test.images, y: mnist.test.labels}))\n",
    "    \n",
    "    #儲存現有模型\n",
    "    save_path = saver.save(sess,\"save_model/cnn_model.ckpt\")"
   ]
  },
  {
   "cell_type": "code",
   "execution_count": 19,
   "metadata": {},
   "outputs": [
    {
     "data": {
      "image/png": "[encoded data removed]",
      "text/plain": [
       "<matplotlib.figure.Figure at 0x1aaf13ceb70>"
      ]
     },
     "metadata": {},
     "output_type": "display_data"
    }
   ],
   "source": [
    "plt.ylabel('loss')\n",
    "plt.xlabel('epochs')\n",
    "xtick = [i for i in range(1,len(losses)+1)]\n",
    "plt.xticks(xtick)\n",
    "plt.plot(xtick, losses, label='training_losses')\n",
    "plt.plot(xtick, val_losses, label='validation_losses')\n",
    "plt.legend()\n",
    "plt.show()"
   ]
  }
 ],
 "metadata": {
  "kernelspec": {
   "display_name": "Python 3",
   "language": "python",
   "name": "python3"
  },
  "language_info": {
   "codemirror_mode": {
    "name": "ipython",
    "version": 3
   },
   "file_extension": ".py",
   "mimetype": "text/x-python",
   "name": "python",
   "nbconvert_exporter": "python",
   "pygments_lexer": "ipython3",
   "version": "3.6.2"
  }
 },
 "nbformat": 4,
 "nbformat_minor": 2
}
