{
 "cells": [
  {
   "cell_type": "markdown",
   "metadata": {},
   "source": [
    "# 1. Import Library"
   ]
  },
  {
   "cell_type": "code",
   "execution_count": 1,
   "metadata": {},
   "outputs": [
    {
     "name": "stderr",
     "output_type": "stream",
     "text": [
      "Using TensorFlow backend.\n"
     ]
    }
   ],
   "source": [
    "# Simple CNN model for the CIFAR-10 Dataset\n",
    "import numpy\n",
    "from keras.datasets import cifar10\n",
    "import numpy as np\n",
    "np.random.seed(10)"
   ]
  },
  {
   "cell_type": "markdown",
   "metadata": {},
   "source": [
    "# 資料準備"
   ]
  },
  {
   "cell_type": "code",
   "execution_count": 2,
   "metadata": {},
   "outputs": [],
   "source": [
    "(X_img_train, y_label_train), (X_img_test, y_label_test) = cifar10.load_data()"
   ]
  },
  {
   "cell_type": "code",
   "execution_count": 3,
   "metadata": {},
   "outputs": [
    {
     "name": "stdout",
     "output_type": "stream",
     "text": [
      "train data: images: (50000, 32, 32, 3)  labels: (50000, 1)\n",
      "test  data: images: (10000, 32, 32, 3)  labels: (10000, 1)\n"
     ]
    }
   ],
   "source": [
    "print(\"train data:\",'images:',X_img_train.shape,\" labels:\",y_label_train.shape) \n",
    "print(\"test  data:\",'images:',X_img_test.shape ,\" labels:\",y_label_test.shape) "
   ]
  },
  {
   "cell_type": "code",
   "execution_count": 4,
   "metadata": {},
   "outputs": [],
   "source": [
    "X_img_train_normalize = X_img_train.astype('float32') / 255.0\n",
    "X_img_test_normalize = X_img_test.astype('float32') / 255.0"
   ]
  },
  {
   "cell_type": "code",
   "execution_count": 5,
   "metadata": {},
   "outputs": [],
   "source": [
    "from keras.utils import np_utils\n",
    "y_label_train_OneHot = np_utils.to_categorical(y_label_train)\n",
    "y_label_test_OneHot = np_utils.to_categorical(y_label_test)"
   ]
  },
  {
   "cell_type": "code",
   "execution_count": 6,
   "metadata": {},
   "outputs": [
    {
     "data": {
      "text/plain": [
       "(10000, 10)"
      ]
     },
     "execution_count": 6,
     "metadata": {},
     "output_type": "execute_result"
    }
   ],
   "source": [
    "y_label_test_OneHot.shape"
   ]
  },
  {
   "cell_type": "markdown",
   "metadata": {},
   "source": [
    "# 建立模型"
   ]
  },
  {
   "cell_type": "code",
   "execution_count": 7,
   "metadata": {},
   "outputs": [],
   "source": [
    "from keras.applications.vgg16 import VGG16\n",
    "from keras.preprocessing import image\n",
    "from keras.applications.vgg16 import preprocess_input\n",
    "from keras.layers import Input, Flatten, Dense, Dropout\n",
    "from keras.models import Model\n",
    "import numpy as np"
   ]
  },
  {
   "cell_type": "code",
   "execution_count": 8,
   "metadata": {},
   "outputs": [
    {
     "name": "stdout",
     "output_type": "stream",
     "text": [
      "_________________________________________________________________\n",
      "Layer (type)                 Output Shape              Param #   \n",
      "=================================================================\n",
      "input_1 (InputLayer)         (None, None, None, 3)     0         \n",
      "_________________________________________________________________\n",
      "block1_conv1 (Conv2D)        (None, None, None, 64)    1792      \n",
      "_________________________________________________________________\n",
      "block1_conv2 (Conv2D)        (None, None, None, 64)    36928     \n",
      "_________________________________________________________________\n",
      "block1_pool (MaxPooling2D)   (None, None, None, 64)    0         \n",
      "_________________________________________________________________\n",
      "block2_conv1 (Conv2D)        (None, None, None, 128)   73856     \n",
      "_________________________________________________________________\n",
      "block2_conv2 (Conv2D)        (None, None, None, 128)   147584    \n",
      "_________________________________________________________________\n",
      "block2_pool (MaxPooling2D)   (None, None, None, 128)   0         \n",
      "_________________________________________________________________\n",
      "block3_conv1 (Conv2D)        (None, None, None, 256)   295168    \n",
      "_________________________________________________________________\n",
      "block3_conv2 (Conv2D)        (None, None, None, 256)   590080    \n",
      "_________________________________________________________________\n",
      "block3_conv3 (Conv2D)        (None, None, None, 256)   590080    \n",
      "_________________________________________________________________\n",
      "block3_pool (MaxPooling2D)   (None, None, None, 256)   0         \n",
      "_________________________________________________________________\n",
      "block4_conv1 (Conv2D)        (None, None, None, 512)   1180160   \n",
      "_________________________________________________________________\n",
      "block4_conv2 (Conv2D)        (None, None, None, 512)   2359808   \n",
      "_________________________________________________________________\n",
      "block4_conv3 (Conv2D)        (None, None, None, 512)   2359808   \n",
      "_________________________________________________________________\n",
      "block4_pool (MaxPooling2D)   (None, None, None, 512)   0         \n",
      "_________________________________________________________________\n",
      "block5_conv1 (Conv2D)        (None, None, None, 512)   2359808   \n",
      "_________________________________________________________________\n",
      "block5_conv2 (Conv2D)        (None, None, None, 512)   2359808   \n",
      "_________________________________________________________________\n",
      "block5_conv3 (Conv2D)        (None, None, None, 512)   2359808   \n",
      "_________________________________________________________________\n",
      "block5_pool (MaxPooling2D)   (None, None, None, 512)   0         \n",
      "=================================================================\n",
      "Total params: 14,714,688\n",
      "Trainable params: 14,714,688\n",
      "Non-trainable params: 0\n",
      "_________________________________________________________________\n"
     ]
    }
   ],
   "source": [
    "#Get back the convolutional part of a VGG network trained on ImageNet\n",
    "model_vgg16_conv = VGG16(weights='imagenet', include_top=False, classes=10)\n",
    "model_vgg16_conv.summary()"
   ]
  },
  {
   "cell_type": "code",
   "execution_count": 9,
   "metadata": {},
   "outputs": [],
   "source": [
    "#Create your own input format (here 32x32x3)\n",
    "input = Input(shape=(32,32,3),name = 'image_input')"
   ]
  },
  {
   "cell_type": "code",
   "execution_count": 10,
   "metadata": {},
   "outputs": [],
   "source": [
    "#Use the generated model \n",
    "output_vgg16_conv = model_vgg16_conv(input)"
   ]
  },
  {
   "cell_type": "code",
   "execution_count": 11,
   "metadata": {},
   "outputs": [],
   "source": [
    "#Add the fully-connected layers \n",
    "x = Flatten(name='flatten')(output_vgg16_conv)\n",
    "x = Dense(512, activation='relu', name='fc1')(x)\n",
    "#x = Dropout(0.4)(x)\n",
    "x = Dense(128, activation='relu', name='fc2')(x)\n",
    "#x = Dropout(0.4)(x)\n",
    "#x = Dense(2048, activation='relu', name='fc3')(x)\n",
    "#x = Dropout(0.4)(x)\n",
    "#x = Dense(256, activation='relu', name='fc4')(x)\n",
    "x = Dense(10, activation='softmax', name='predictions')(x)"
   ]
  },
  {
   "cell_type": "code",
   "execution_count": 12,
   "metadata": {},
   "outputs": [
    {
     "name": "stderr",
     "output_type": "stream",
     "text": [
      "/opt/conda/lib/python3.6/site-packages/ipykernel_launcher.py:2: UserWarning: Update your `Model` call to the Keras 2 API: `Model(inputs=Tensor(\"im..., outputs=Tensor(\"pr...)`\n",
      "  \n"
     ]
    }
   ],
   "source": [
    "#Create your own model \n",
    "my_model = Model(input=input, output=x)"
   ]
  },
  {
   "cell_type": "code",
   "execution_count": 13,
   "metadata": {},
   "outputs": [
    {
     "name": "stdout",
     "output_type": "stream",
     "text": [
      "_________________________________________________________________\n",
      "Layer (type)                 Output Shape              Param #   \n",
      "=================================================================\n",
      "image_input (InputLayer)     (None, 32, 32, 3)         0         \n",
      "_________________________________________________________________\n",
      "vgg16 (Model)                multiple                  14714688  \n",
      "_________________________________________________________________\n",
      "flatten (Flatten)            (None, 512)               0         \n",
      "_________________________________________________________________\n",
      "fc1 (Dense)                  (None, 512)               262656    \n",
      "_________________________________________________________________\n",
      "fc2 (Dense)                  (None, 128)               65664     \n",
      "_________________________________________________________________\n",
      "predictions (Dense)          (None, 10)                1290      \n",
      "=================================================================\n",
      "Total params: 15,044,298\n",
      "Trainable params: 15,044,298\n",
      "Non-trainable params: 0\n",
      "_________________________________________________________________\n"
     ]
    }
   ],
   "source": [
    "#In the summary, weights and layers from VGG part will be hidden, but they will be fit during the training\n",
    "my_model.summary()\n"
   ]
  },
  {
   "cell_type": "code",
   "execution_count": 14,
   "metadata": {},
   "outputs": [],
   "source": [
    "#If you want to change only the last layer :\n",
    "\n",
    "# Generate a model with all layers (with top)\n",
    "#vgg16 = VGG16(weights=None, include_top=True)\n",
    "\n",
    "#Add a layer where input is the output of the  second last layer \n",
    "#x = Dense(8, activation='softmax', name='predictions')(vgg16.layers[-2].output)\n",
    "\n",
    "#Then create the corresponding model \n",
    "#my_model = Model(input=vgg16.input, output=x)\n",
    "#my_model.summary()"
   ]
  },
  {
   "cell_type": "markdown",
   "metadata": {},
   "source": [
    "# 訓練模型"
   ]
  },
  {
   "cell_type": "code",
   "execution_count": 15,
   "metadata": {},
   "outputs": [],
   "source": [
    "from keras.models import optimizers\n",
    "\n",
    "#, beta_1=0.9, beta_2=0.999, epsilon=None, decay=0.0\n",
    "opt_adam = optimizers.Adam( lr=0.0001, beta_1=0.9, beta_2=0.99999, decay=0.00001 )"
   ]
  },
  {
   "cell_type": "code",
   "execution_count": 16,
   "metadata": {},
   "outputs": [],
   "source": [
    "my_model.compile(loss='categorical_crossentropy', optimizer= opt_adam, metrics=['accuracy'])"
   ]
  },
  {
   "cell_type": "code",
   "execution_count": 17,
   "metadata": {},
   "outputs": [
    {
     "name": "stdout",
     "output_type": "stream",
     "text": [
      "Using real-time data augmentation.\n"
     ]
    }
   ],
   "source": [
    "from keras.preprocessing.image import ImageDataGenerator\n",
    "\n",
    "print('Using real-time data augmentation.')\n",
    "# This will do preprocessing and realtime data augmentation:\n",
    "datagen = ImageDataGenerator(\n",
    "    rotation_range=30,  # randomly rotate images in the range (degrees, 0 to 180)\n",
    "    width_shift_range=0.1,  # randomly shift images horizontally (fraction of total width)\n",
    "    height_shift_range=0.1,  # randomly shift images vertically (fraction of total height)\n",
    "    horizontal_flip=True,  # randomly flip images\n",
    "    vertical_flip=False)  # randomly flip images"
   ]
  },
  {
   "cell_type": "code",
   "execution_count": 18,
   "metadata": {},
   "outputs": [
    {
     "name": "stdout",
     "output_type": "stream",
     "text": [
      "Epoch 1/40\n",
      "25/25 [==============================] - 17s 661ms/step - loss: 1.6768 - acc: 0.4009 - val_loss: 1.1190 - val_acc: 0.6024\n",
      "Epoch 2/40\n",
      "25/25 [==============================] - 12s 495ms/step - loss: 1.0714 - acc: 0.6196 - val_loss: 0.9178 - val_acc: 0.6736\n",
      "Epoch 3/40\n",
      "25/25 [==============================] - 12s 476ms/step - loss: 0.8920 - acc: 0.6847 - val_loss: 0.7281 - val_acc: 0.7406\n",
      "Epoch 4/40\n",
      "25/25 [==============================] - 12s 490ms/step - loss: 0.7957 - acc: 0.7198 - val_loss: 0.6720 - val_acc: 0.7633\n",
      "Epoch 5/40\n",
      "25/25 [==============================] - 12s 487ms/step - loss: 0.7287 - acc: 0.7447 - val_loss: 0.6768 - val_acc: 0.7613\n",
      "Epoch 6/40\n",
      "25/25 [==============================] - 12s 494ms/step - loss: 0.6862 - acc: 0.7571 - val_loss: 0.5944 - val_acc: 0.7894\n",
      "Epoch 7/40\n",
      "25/25 [==============================] - 12s 497ms/step - loss: 0.6504 - acc: 0.7722 - val_loss: 0.6281 - val_acc: 0.7779\n",
      "Epoch 8/40\n",
      "25/25 [==============================] - 12s 496ms/step - loss: 0.6192 - acc: 0.7822 - val_loss: 0.5546 - val_acc: 0.8028\n",
      "Epoch 9/40\n",
      "25/25 [==============================] - 12s 495ms/step - loss: 0.5907 - acc: 0.7911 - val_loss: 0.5294 - val_acc: 0.8111\n",
      "Epoch 10/40\n",
      "25/25 [==============================] - 13s 523ms/step - loss: 0.5576 - acc: 0.8045 - val_loss: 0.5241 - val_acc: 0.8149\n",
      "Epoch 11/40\n",
      "25/25 [==============================] - 12s 488ms/step - loss: 0.5564 - acc: 0.8033 - val_loss: 0.5236 - val_acc: 0.8145\n",
      "Epoch 12/40\n",
      "25/25 [==============================] - 13s 514ms/step - loss: 0.5243 - acc: 0.8149 - val_loss: 0.5031 - val_acc: 0.8221\n",
      "Epoch 13/40\n",
      "25/25 [==============================] - 13s 502ms/step - loss: 0.4992 - acc: 0.8228 - val_loss: 0.4797 - val_acc: 0.8322\n",
      "Epoch 14/40\n",
      "25/25 [==============================] - 13s 515ms/step - loss: 0.4777 - acc: 0.8327 - val_loss: 0.4704 - val_acc: 0.8372\n",
      "Epoch 15/40\n",
      "25/25 [==============================] - 12s 492ms/step - loss: 0.4603 - acc: 0.8378 - val_loss: 0.4696 - val_acc: 0.8353\n",
      "Epoch 16/40\n",
      "25/25 [==============================] - 12s 481ms/step - loss: 0.4459 - acc: 0.8430 - val_loss: 0.4764 - val_acc: 0.8336\n",
      "Epoch 17/40\n",
      "25/25 [==============================] - 13s 504ms/step - loss: 0.4383 - acc: 0.8433 - val_loss: 0.4533 - val_acc: 0.8412\n",
      "Epoch 18/40\n",
      "25/25 [==============================] - 12s 479ms/step - loss: 0.4318 - acc: 0.8485 - val_loss: 0.4710 - val_acc: 0.8378\n",
      "Epoch 19/40\n",
      "25/25 [==============================] - 13s 515ms/step - loss: 0.4253 - acc: 0.8476 - val_loss: 0.4756 - val_acc: 0.8363\n",
      "Epoch 20/40\n",
      "25/25 [==============================] - 12s 466ms/step - loss: 0.3850 - acc: 0.8646 - val_loss: 0.4530 - val_acc: 0.8468\n",
      "Epoch 21/40\n",
      "25/25 [==============================] - 13s 502ms/step - loss: 0.3794 - acc: 0.8662 - val_loss: 0.4505 - val_acc: 0.8453\n",
      "Epoch 22/40\n",
      "25/25 [==============================] - 13s 501ms/step - loss: 0.3940 - acc: 0.8610 - val_loss: 0.4874 - val_acc: 0.8359\n",
      "Epoch 23/40\n",
      "25/25 [==============================] - 12s 489ms/step - loss: 0.3614 - acc: 0.8740 - val_loss: 0.4569 - val_acc: 0.8451\n",
      "Epoch 24/40\n",
      "25/25 [==============================] - 12s 500ms/step - loss: 0.3556 - acc: 0.8727 - val_loss: 0.4483 - val_acc: 0.8479\n",
      "Epoch 25/40\n",
      "25/25 [==============================] - 13s 501ms/step - loss: 0.3414 - acc: 0.8795 - val_loss: 0.4354 - val_acc: 0.8493\n",
      "Epoch 26/40\n",
      "25/25 [==============================] - 13s 506ms/step - loss: 0.3233 - acc: 0.8852 - val_loss: 0.4505 - val_acc: 0.8477\n",
      "Epoch 27/40\n",
      "25/25 [==============================] - 12s 495ms/step - loss: 0.3288 - acc: 0.8827 - val_loss: 0.4527 - val_acc: 0.8471\n",
      "Epoch 28/40\n",
      "25/25 [==============================] - 12s 488ms/step - loss: 0.3179 - acc: 0.8866 - val_loss: 0.4484 - val_acc: 0.8512\n",
      "Epoch 29/40\n",
      "25/25 [==============================] - 13s 531ms/step - loss: 0.3109 - acc: 0.8892 - val_loss: 0.4691 - val_acc: 0.8427\n",
      "Epoch 30/40\n",
      "25/25 [==============================] - 12s 472ms/step - loss: 0.2889 - acc: 0.8975 - val_loss: 0.4431 - val_acc: 0.8564\n",
      "Epoch 31/40\n",
      "25/25 [==============================] - 14s 553ms/step - loss: 0.2726 - acc: 0.9029 - val_loss: 0.4666 - val_acc: 0.8516\n",
      "Epoch 32/40\n",
      "25/25 [==============================] - 13s 540ms/step - loss: 0.2676 - acc: 0.9038 - val_loss: 0.4677 - val_acc: 0.8499\n",
      "Epoch 33/40\n",
      "25/25 [==============================] - 13s 502ms/step - loss: 0.2695 - acc: 0.9040 - val_loss: 0.4562 - val_acc: 0.8555\n",
      "Epoch 34/40\n",
      "25/25 [==============================] - 14s 547ms/step - loss: 0.2563 - acc: 0.9093 - val_loss: 0.4772 - val_acc: 0.8499\n",
      "Epoch 35/40\n",
      "25/25 [==============================] - 13s 502ms/step - loss: 0.2371 - acc: 0.9159 - val_loss: 0.4795 - val_acc: 0.8493\n",
      "Epoch 36/40\n",
      "25/25 [==============================] - 13s 524ms/step - loss: 0.2428 - acc: 0.9126 - val_loss: 0.4606 - val_acc: 0.8545\n",
      "Epoch 37/40\n",
      "25/25 [==============================] - 13s 516ms/step - loss: 0.2236 - acc: 0.9200 - val_loss: 0.4778 - val_acc: 0.8501\n",
      "Epoch 38/40\n",
      "25/25 [==============================] - 14s 546ms/step - loss: 0.2248 - acc: 0.9203 - val_loss: 0.4626 - val_acc: 0.8557\n",
      "Epoch 39/40\n",
      "25/25 [==============================] - 13s 528ms/step - loss: 0.2133 - acc: 0.9242 - val_loss: 0.4753 - val_acc: 0.8534\n",
      "Epoch 40/40\n",
      "25/25 [==============================] - 14s 547ms/step - loss: 0.2127 - acc: 0.9231 - val_loss: 0.4639 - val_acc: 0.8523\n"
     ]
    }
   ],
   "source": [
    "# Fit the model on the batches generated by datagen.flow().\n",
    "train_history = my_model.fit_generator(\n",
    "                    datagen.flow(X_img_train_normalize, y_label_train_OneHot, batch_size=2000),\n",
    "                    epochs=40,\n",
    "                    validation_data=(X_img_test_normalize, y_label_test_OneHot)\n",
    "                    )"
   ]
  },
  {
   "cell_type": "code",
   "execution_count": 19,
   "metadata": {},
   "outputs": [],
   "source": [
    "import matplotlib.pyplot as plt\n",
    "def show_train_history(train_token,test_token):\n",
    "    plt.plot(train_history.history[train_token])\n",
    "    plt.plot(train_history.history[test_token])\n",
    "    plt.title('Train History')\n",
    "    #plt.ylabel('Accuracy')\n",
    "    plt.ylabel(train_token)\n",
    "    plt.xlabel('Epoch')\n",
    "    plt.legend([train_token, test_token], loc='upper left')\n",
    "    plt.show()"
   ]
  },
  {
   "cell_type": "code",
   "execution_count": 20,
   "metadata": {},
   "outputs": [
    {
     "data": {
      "image/png": "[encoded data removed]",
      "text/plain": [
       "<matplotlib.figure.Figure at 0x7fa4000f17b8>"
      ]
     },
     "metadata": {},
     "output_type": "display_data"
    }
   ],
   "source": [
    "show_train_history('acc','val_acc')"
   ]
  },
  {
   "cell_type": "code",
   "execution_count": 21,
   "metadata": {},
   "outputs": [
    {
     "data": {
      "image/png": "[encoded data removed]",
      "text/plain": [
       "<matplotlib.figure.Figure at 0x7fa30010e588>"
      ]
     },
     "metadata": {},
     "output_type": "display_data"
    }
   ],
   "source": [
    "show_train_history('loss','val_loss')"
   ]
  },
  {
   "cell_type": "markdown",
   "metadata": {},
   "source": [
    "# 評估模型準確率"
   ]
  },
  {
   "cell_type": "code",
   "execution_count": 22,
   "metadata": {},
   "outputs": [
    {
     "data": {
      "text/plain": [
       "0.85229999999999995"
      ]
     },
     "execution_count": 22,
     "metadata": {},
     "output_type": "execute_result"
    }
   ],
   "source": [
    "scores = my_model.evaluate(X_img_test_normalize, \n",
    "                        y_label_test_OneHot,verbose=0)\n",
    "scores[1]"
   ]
  },
  {
   "cell_type": "markdown",
   "metadata": {},
   "source": [
    "# 進行預測"
   ]
  },
  {
   "cell_type": "code",
   "execution_count": 23,
   "metadata": {},
   "outputs": [],
   "source": [
    "pred=my_model.predict(X_img_test_normalize)"
   ]
  },
  {
   "cell_type": "code",
   "execution_count": 24,
   "metadata": {},
   "outputs": [
    {
     "data": {
      "text/plain": [
       "array([  1.59534193e-05,   1.31896911e-06,   2.55717600e-06,\n",
       "         9.90433931e-01,   3.15996404e-05,   9.44812689e-03,\n",
       "         1.99258898e-06,   6.30189388e-05,   6.14830014e-07,\n",
       "         9.66475909e-07], dtype=float32)"
      ]
     },
     "execution_count": 24,
     "metadata": {},
     "output_type": "execute_result"
    }
   ],
   "source": [
    "pred[0]"
   ]
  },
  {
   "cell_type": "code",
   "execution_count": 25,
   "metadata": {},
   "outputs": [],
   "source": [
    "prediction = numpy.empty(10000)\n",
    "for i in range(pred.shape[0]):\n",
    "    prediction[i] = np.argmax(pred[i])"
   ]
  },
  {
   "cell_type": "code",
   "execution_count": 26,
   "metadata": {},
   "outputs": [
    {
     "data": {
      "text/plain": [
       "3.0"
      ]
     },
     "execution_count": 26,
     "metadata": {},
     "output_type": "execute_result"
    }
   ],
   "source": [
    "prediction[0]"
   ]
  },
  {
   "cell_type": "code",
   "execution_count": 27,
   "metadata": {},
   "outputs": [],
   "source": [
    "label_dict={0:\"airplane\",1:\"automobile\",2:\"bird\",3:\"cat\",4:\"deer\",\n",
    "            5:\"dog\",6:\"frog\",7:\"horse\",8:\"ship\",9:\"truck\"}"
   ]
  },
  {
   "cell_type": "code",
   "execution_count": 28,
   "metadata": {},
   "outputs": [],
   "source": [
    "import matplotlib.pyplot as plt\n",
    "\n",
    "def plot_images_labels_prediction(images,labels,prediction,idx,num=10):\n",
    "    fig = plt.gcf()\n",
    "    fig.set_size_inches(12, 14)\n",
    "    if num>25: num=25 \n",
    "    for i in range(idx, idx+num):\n",
    "        ax=plt.subplot(5,5, 1+(i-idx))\n",
    "        ax.imshow(images[i],cmap='binary')\n",
    "                \n",
    "        title=str(i)+','+label_dict[labels[i][0]]\n",
    "        if len(prediction)>0:\n",
    "            title+='=>'+label_dict[prediction[i]]\n",
    "            \n",
    "        ax.set_title(title,fontsize=10) \n",
    "        ax.set_xticks([]);ax.set_yticks([])        \n",
    "        #idx+=1 \n",
    "    plt.show()"
   ]
  },
  {
   "cell_type": "code",
   "execution_count": 29,
   "metadata": {},
   "outputs": [
    {
     "data": {
      "image/png": "[encoded data removed]",
      "text/plain": [
       "<matplotlib.figure.Figure at 0x7fa3000b0080>"
      ]
     },
     "metadata": {},
     "output_type": "display_data"
    }
   ],
   "source": [
    "plot_images_labels_prediction(X_img_test_normalize,y_label_test,\n",
    "                              prediction,30,10)"
   ]
  },
  {
   "cell_type": "markdown",
   "metadata": {},
   "source": [
    "# 查看預測機率"
   ]
  },
  {
   "cell_type": "code",
   "execution_count": 30,
   "metadata": {},
   "outputs": [],
   "source": [
    "Predicted_Probability=my_model.predict(X_img_test_normalize)"
   ]
  },
  {
   "cell_type": "code",
   "execution_count": 31,
   "metadata": {},
   "outputs": [],
   "source": [
    "def show_Predicted_Probability(X_img,Predicted_Probability,i):\n",
    "    plt.figure(figsize=(2,2))\n",
    "    plt.imshow(np.reshape(X_img_test[i],(32,32,3)))\n",
    "    plt.show()\n",
    "    for j in range(10):\n",
    "        print(label_dict[j]+' Probability:%1.9f'%(Predicted_Probability[i][j]))"
   ]
  },
  {
   "cell_type": "code",
   "execution_count": 32,
   "metadata": {},
   "outputs": [
    {
     "data": {
      "image/png": "[encoded data removed]",
      "text/plain": [
       "<matplotlib.figure.Figure at 0x7fa2b864b7b8>"
      ]
     },
     "metadata": {},
     "output_type": "display_data"
    },
    {
     "name": "stdout",
     "output_type": "stream",
     "text": [
      "airplane Probability:0.000016515\n",
      "automobile Probability:0.000289528\n",
      "bird Probability:0.033371486\n",
      "cat Probability:0.104741998\n",
      "deer Probability:0.005138615\n",
      "dog Probability:0.855313957\n",
      "frog Probability:0.000326486\n",
      "horse Probability:0.000485123\n",
      "ship Probability:0.000144300\n",
      "truck Probability:0.000171980\n"
     ]
    }
   ],
   "source": [
    "show_Predicted_Probability(X_img_test,Predicted_Probability,33)"
   ]
  },
  {
   "cell_type": "code",
   "execution_count": 33,
   "metadata": {},
   "outputs": [
    {
     "data": {
      "image/png": "[encoded data removed]",
      "text/plain": [
       "<matplotlib.figure.Figure at 0x7fa2b865a7b8>"
      ]
     },
     "metadata": {},
     "output_type": "display_data"
    },
    {
     "name": "stdout",
     "output_type": "stream",
     "text": [
      "airplane Probability:0.000006749\n",
      "automobile Probability:0.339821935\n",
      "bird Probability:0.000003046\n",
      "cat Probability:0.000054152\n",
      "deer Probability:0.000001696\n",
      "dog Probability:0.000002294\n",
      "frog Probability:0.000000239\n",
      "horse Probability:0.000001339\n",
      "ship Probability:0.000021425\n",
      "truck Probability:0.660087049\n"
     ]
    }
   ],
   "source": [
    "show_Predicted_Probability(X_img_test,Predicted_Probability,37)"
   ]
  },
  {
   "cell_type": "markdown",
   "metadata": {},
   "source": [
    "# confusion matrix"
   ]
  },
  {
   "cell_type": "code",
   "execution_count": 34,
   "metadata": {},
   "outputs": [
    {
     "name": "stdout",
     "output_type": "stream",
     "text": [
      "{0: 'airplane', 1: 'automobile', 2: 'bird', 3: 'cat', 4: 'deer', 5: 'dog', 6: 'frog', 7: 'horse', 8: 'ship', 9: 'truck'}\n"
     ]
    },
    {
     "data": {
      "text/html": [
       "<div>\n",
       "<table border=\"1\" class=\"dataframe\">\n",
       "  <thead>\n",
       "    <tr style=\"text-align: right;\">\n",
       "      <th>predict</th>\n",
       "      <th>0.0</th>\n",
       "      <th>1.0</th>\n",
       "      <th>2.0</th>\n",
       "      <th>3.0</th>\n",
       "      <th>4.0</th>\n",
       "      <th>5.0</th>\n",
       "      <th>6.0</th>\n",
       "      <th>7.0</th>\n",
       "      <th>8.0</th>\n",
       "      <th>9.0</th>\n",
       "    </tr>\n",
       "    <tr>\n",
       "      <th>label</th>\n",
       "      <th></th>\n",
       "      <th></th>\n",
       "      <th></th>\n",
       "      <th></th>\n",
       "      <th></th>\n",
       "      <th></th>\n",
       "      <th></th>\n",
       "      <th></th>\n",
       "      <th></th>\n",
       "      <th></th>\n",
       "    </tr>\n",
       "  </thead>\n",
       "  <tbody>\n",
       "    <tr>\n",
       "      <th>0</th>\n",
       "      <td>921</td>\n",
       "      <td>8</td>\n",
       "      <td>4</td>\n",
       "      <td>17</td>\n",
       "      <td>2</td>\n",
       "      <td>0</td>\n",
       "      <td>3</td>\n",
       "      <td>7</td>\n",
       "      <td>25</td>\n",
       "      <td>13</td>\n",
       "    </tr>\n",
       "    <tr>\n",
       "      <th>1</th>\n",
       "      <td>9</td>\n",
       "      <td>928</td>\n",
       "      <td>0</td>\n",
       "      <td>3</td>\n",
       "      <td>0</td>\n",
       "      <td>3</td>\n",
       "      <td>0</td>\n",
       "      <td>2</td>\n",
       "      <td>6</td>\n",
       "      <td>49</td>\n",
       "    </tr>\n",
       "    <tr>\n",
       "      <th>2</th>\n",
       "      <td>36</td>\n",
       "      <td>2</td>\n",
       "      <td>780</td>\n",
       "      <td>55</td>\n",
       "      <td>42</td>\n",
       "      <td>33</td>\n",
       "      <td>29</td>\n",
       "      <td>20</td>\n",
       "      <td>2</td>\n",
       "      <td>1</td>\n",
       "    </tr>\n",
       "    <tr>\n",
       "      <th>3</th>\n",
       "      <td>6</td>\n",
       "      <td>3</td>\n",
       "      <td>25</td>\n",
       "      <td>795</td>\n",
       "      <td>21</td>\n",
       "      <td>99</td>\n",
       "      <td>24</td>\n",
       "      <td>13</td>\n",
       "      <td>3</td>\n",
       "      <td>11</td>\n",
       "    </tr>\n",
       "    <tr>\n",
       "      <th>4</th>\n",
       "      <td>10</td>\n",
       "      <td>1</td>\n",
       "      <td>31</td>\n",
       "      <td>49</td>\n",
       "      <td>789</td>\n",
       "      <td>27</td>\n",
       "      <td>26</td>\n",
       "      <td>64</td>\n",
       "      <td>2</td>\n",
       "      <td>1</td>\n",
       "    </tr>\n",
       "    <tr>\n",
       "      <th>5</th>\n",
       "      <td>2</td>\n",
       "      <td>0</td>\n",
       "      <td>7</td>\n",
       "      <td>166</td>\n",
       "      <td>15</td>\n",
       "      <td>760</td>\n",
       "      <td>15</td>\n",
       "      <td>26</td>\n",
       "      <td>5</td>\n",
       "      <td>4</td>\n",
       "    </tr>\n",
       "    <tr>\n",
       "      <th>6</th>\n",
       "      <td>9</td>\n",
       "      <td>1</td>\n",
       "      <td>15</td>\n",
       "      <td>66</td>\n",
       "      <td>21</td>\n",
       "      <td>15</td>\n",
       "      <td>870</td>\n",
       "      <td>0</td>\n",
       "      <td>2</td>\n",
       "      <td>1</td>\n",
       "    </tr>\n",
       "    <tr>\n",
       "      <th>7</th>\n",
       "      <td>9</td>\n",
       "      <td>0</td>\n",
       "      <td>7</td>\n",
       "      <td>32</td>\n",
       "      <td>11</td>\n",
       "      <td>44</td>\n",
       "      <td>0</td>\n",
       "      <td>886</td>\n",
       "      <td>2</td>\n",
       "      <td>9</td>\n",
       "    </tr>\n",
       "    <tr>\n",
       "      <th>8</th>\n",
       "      <td>45</td>\n",
       "      <td>19</td>\n",
       "      <td>7</td>\n",
       "      <td>12</td>\n",
       "      <td>2</td>\n",
       "      <td>3</td>\n",
       "      <td>0</td>\n",
       "      <td>0</td>\n",
       "      <td>890</td>\n",
       "      <td>22</td>\n",
       "    </tr>\n",
       "    <tr>\n",
       "      <th>9</th>\n",
       "      <td>16</td>\n",
       "      <td>53</td>\n",
       "      <td>1</td>\n",
       "      <td>11</td>\n",
       "      <td>0</td>\n",
       "      <td>1</td>\n",
       "      <td>2</td>\n",
       "      <td>1</td>\n",
       "      <td>11</td>\n",
       "      <td>904</td>\n",
       "    </tr>\n",
       "  </tbody>\n",
       "</table>\n",
       "</div>"
      ],
      "text/plain": [
       "predict  0.0  1.0  2.0  3.0  4.0  5.0  6.0  7.0  8.0  9.0\n",
       "label                                                    \n",
       "0        921    8    4   17    2    0    3    7   25   13\n",
       "1          9  928    0    3    0    3    0    2    6   49\n",
       "2         36    2  780   55   42   33   29   20    2    1\n",
       "3          6    3   25  795   21   99   24   13    3   11\n",
       "4         10    1   31   49  789   27   26   64    2    1\n",
       "5          2    0    7  166   15  760   15   26    5    4\n",
       "6          9    1   15   66   21   15  870    0    2    1\n",
       "7          9    0    7   32   11   44    0  886    2    9\n",
       "8         45   19    7   12    2    3    0    0  890   22\n",
       "9         16   53    1   11    0    1    2    1   11  904"
      ]
     },
     "execution_count": 34,
     "metadata": {},
     "output_type": "execute_result"
    }
   ],
   "source": [
    "import pandas as pd\n",
    "print(label_dict)\n",
    "pd.crosstab(y_label_test.reshape(-1),prediction,\n",
    "            rownames=['label'],colnames=['predict'])"
   ]
  },
  {
   "cell_type": "markdown",
   "metadata": {},
   "source": [
    "# Save model to JSON"
   ]
  },
  {
   "cell_type": "code",
   "execution_count": 34,
   "metadata": {},
   "outputs": [],
   "source": [
    "model_json = my_model.to_json()\n",
    "with open(\"SaveModel/cifarVGG16Model.json\", \"w\") as json_file:\n",
    "    json_file.write(model_json)"
   ]
  },
  {
   "cell_type": "markdown",
   "metadata": {},
   "source": [
    "# Save Model to YAML"
   ]
  },
  {
   "cell_type": "code",
   "execution_count": 35,
   "metadata": {},
   "outputs": [],
   "source": [
    "model_yaml = my_model.to_yaml()\n",
    "with open(\"SaveModel/cifarVGG16Model.yaml\", \"w\") as yaml_file:\n",
    "    yaml_file.write(model_yaml)\n"
   ]
  },
  {
   "cell_type": "markdown",
   "metadata": {},
   "source": [
    "# Save Weight to h5 "
   ]
  },
  {
   "cell_type": "code",
   "execution_count": 36,
   "metadata": {},
   "outputs": [
    {
     "name": "stdout",
     "output_type": "stream",
     "text": [
      "Saved model to disk\n"
     ]
    }
   ],
   "source": [
    "my_model.save_weights(\"SaveModel/cifarVGG16Model.h5\")\n",
    "print(\"Saved model to disk\")"
   ]
  },
  {
   "cell_type": "code",
   "execution_count": null,
   "metadata": {
    "collapsed": true
   },
   "outputs": [],
   "source": []
  }
 ],
 "metadata": {
  "anaconda-cloud": {},
  "kernelspec": {
   "display_name": "Python 3",
   "language": "python",
   "name": "python3"
  },
  "language_info": {
   "codemirror_mode": {
    "name": "ipython",
    "version": 3
   },
   "file_extension": ".py",
   "mimetype": "text/x-python",
   "name": "python",
   "nbconvert_exporter": "python",
   "pygments_lexer": "ipython3",
   "version": "3.6.3"
  }
 },
 "nbformat": 4,
 "nbformat_minor": 2
}
