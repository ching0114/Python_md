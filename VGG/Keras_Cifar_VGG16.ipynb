{
 "cells": [
  {
   "cell_type": "markdown",
   "metadata": {},
   "source": [
    "# 1. Import Library"
   ]
  },
  {
   "cell_type": "code",
   "execution_count": 1,
   "metadata": {},
   "outputs": [
    {
     "name": "stderr",
     "output_type": "stream",
     "text": [
      "Using TensorFlow backend.\n"
     ]
    }
   ],
   "source": [
    "# Simple CNN model for the CIFAR-10 Dataset\n",
    "import numpy\n",
    "from keras.datasets import cifar10\n",
    "import numpy as np\n",
    "np.random.seed(10)"
   ]
  },
  {
   "cell_type": "markdown",
   "metadata": {},
   "source": [
    "# 資料準備"
   ]
  },
  {
   "cell_type": "code",
   "execution_count": 2,
   "metadata": {},
   "outputs": [],
   "source": [
    "(X_img_train, y_label_train), (X_img_test, y_label_test) = cifar10.load_data()"
   ]
  },
  {
   "cell_type": "code",
   "execution_count": 3,
   "metadata": {},
   "outputs": [
    {
     "name": "stdout",
     "output_type": "stream",
     "text": [
      "train data: images: (50000, 32, 32, 3)  labels: (50000, 1)\n",
      "test  data: images: (10000, 32, 32, 3)  labels: (10000, 1)\n"
     ]
    }
   ],
   "source": [
    "print(\"train data:\",'images:',X_img_train.shape,\" labels:\",y_label_train.shape) \n",
    "print(\"test  data:\",'images:',X_img_test.shape ,\" labels:\",y_label_test.shape) "
   ]
  },
  {
   "cell_type": "code",
   "execution_count": 4,
   "metadata": {},
   "outputs": [],
   "source": [
    "X_img_train_normalize = X_img_train.astype('float32') / 255.0\n",
    "X_img_test_normalize = X_img_test.astype('float32') / 255.0"
   ]
  },
  {
   "cell_type": "code",
   "execution_count": 5,
   "metadata": {},
   "outputs": [],
   "source": [
    "from keras.utils import np_utils\n",
    "y_label_train_OneHot = np_utils.to_categorical(y_label_train)\n",
    "y_label_test_OneHot = np_utils.to_categorical(y_label_test)"
   ]
  },
  {
   "cell_type": "code",
   "execution_count": 6,
   "metadata": {},
   "outputs": [
    {
     "data": {
      "text/plain": [
       "(10000, 10)"
      ]
     },
     "execution_count": 6,
     "metadata": {},
     "output_type": "execute_result"
    }
   ],
   "source": [
    "y_label_test_OneHot.shape"
   ]
  },
  {
   "cell_type": "markdown",
   "metadata": {},
   "source": [
    "# 建立模型"
   ]
  },
  {
   "cell_type": "code",
   "execution_count": 7,
   "metadata": {},
   "outputs": [],
   "source": [
    "from keras.applications.vgg16 import VGG16\n",
    "from keras.preprocessing import image\n",
    "from keras.applications.vgg16 import preprocess_input\n",
    "from keras.layers import Input, Flatten, Dense, Dropout\n",
    "from keras.models import Model\n",
    "import numpy as np"
   ]
  },
  {
   "cell_type": "code",
   "execution_count": 8,
   "metadata": {},
   "outputs": [
    {
     "name": "stdout",
     "output_type": "stream",
     "text": [
      "_________________________________________________________________\n",
      "Layer (type)                 Output Shape              Param #   \n",
      "=================================================================\n",
      "input_1 (InputLayer)         (None, None, None, 3)     0         \n",
      "_________________________________________________________________\n",
      "block1_conv1 (Conv2D)        (None, None, None, 64)    1792      \n",
      "_________________________________________________________________\n",
      "block1_conv2 (Conv2D)        (None, None, None, 64)    36928     \n",
      "_________________________________________________________________\n",
      "block1_pool (MaxPooling2D)   (None, None, None, 64)    0         \n",
      "_________________________________________________________________\n",
      "block2_conv1 (Conv2D)        (None, None, None, 128)   73856     \n",
      "_________________________________________________________________\n",
      "block2_conv2 (Conv2D)        (None, None, None, 128)   147584    \n",
      "_________________________________________________________________\n",
      "block2_pool (MaxPooling2D)   (None, None, None, 128)   0         \n",
      "_________________________________________________________________\n",
      "block3_conv1 (Conv2D)        (None, None, None, 256)   295168    \n",
      "_________________________________________________________________\n",
      "block3_conv2 (Conv2D)        (None, None, None, 256)   590080    \n",
      "_________________________________________________________________\n",
      "block3_conv3 (Conv2D)        (None, None, None, 256)   590080    \n",
      "_________________________________________________________________\n",
      "block3_pool (MaxPooling2D)   (None, None, None, 256)   0         \n",
      "_________________________________________________________________\n",
      "block4_conv1 (Conv2D)        (None, None, None, 512)   1180160   \n",
      "_________________________________________________________________\n",
      "block4_conv2 (Conv2D)        (None, None, None, 512)   2359808   \n",
      "_________________________________________________________________\n",
      "block4_conv3 (Conv2D)        (None, None, None, 512)   2359808   \n",
      "_________________________________________________________________\n",
      "block4_pool (MaxPooling2D)   (None, None, None, 512)   0         \n",
      "_________________________________________________________________\n",
      "block5_conv1 (Conv2D)        (None, None, None, 512)   2359808   \n",
      "_________________________________________________________________\n",
      "block5_conv2 (Conv2D)        (None, None, None, 512)   2359808   \n",
      "_________________________________________________________________\n",
      "block5_conv3 (Conv2D)        (None, None, None, 512)   2359808   \n",
      "_________________________________________________________________\n",
      "block5_pool (MaxPooling2D)   (None, None, None, 512)   0         \n",
      "=================================================================\n",
      "Total params: 14,714,688\n",
      "Trainable params: 14,714,688\n",
      "Non-trainable params: 0\n",
      "_________________________________________________________________\n"
     ]
    }
   ],
   "source": [
    "#Get back the convolutional part of a VGG network trained on ImageNet\n",
    "model_vgg16_conv = VGG16(weights='imagenet', include_top=False, classes=10)\n",
    "model_vgg16_conv.summary()"
   ]
  },
  {
   "cell_type": "code",
   "execution_count": 9,
   "metadata": {},
   "outputs": [],
   "source": [
    "#Create your own input format (here 32x32x3)\n",
    "input = Input(shape=(32,32,3),name = 'image_input')"
   ]
  },
  {
   "cell_type": "code",
   "execution_count": 10,
   "metadata": {},
   "outputs": [],
   "source": [
    "#Use the generated model \n",
    "output_vgg16_conv = model_vgg16_conv(input)"
   ]
  },
  {
   "cell_type": "code",
   "execution_count": 11,
   "metadata": {},
   "outputs": [],
   "source": [
    "#Add the fully-connected layers \n",
    "x = Flatten(name='flatten')(output_vgg16_conv)\n",
    "x = Dense(512, activation='relu', name='fc1')(x)\n",
    "#x = Dropout(0.4)(x)\n",
    "x = Dense(128, activation='relu', name='fc2')(x)\n",
    "#x = Dropout(0.4)(x)\n",
    "#x = Dense(2048, activation='relu', name='fc3')(x)\n",
    "#x = Dropout(0.4)(x)\n",
    "#x = Dense(256, activation='relu', name='fc4')(x)\n",
    "x = Dense(10, activation='softmax', name='predictions')(x)"
   ]
  },
  {
   "cell_type": "code",
   "execution_count": 12,
   "metadata": {},
   "outputs": [
    {
     "name": "stderr",
     "output_type": "stream",
     "text": [
      "C:\\Users\\admin\\Anaconda3\\envs\\tensorflow_gpu\\lib\\site-packages\\ipykernel_launcher.py:2: UserWarning: Update your `Model` call to the Keras 2 API: `Model(outputs=Tensor(\"pr..., inputs=Tensor(\"im...)`\n",
      "  \n"
     ]
    }
   ],
   "source": [
    "#Create your own model \n",
    "my_model = Model(input=input, output=x)"
   ]
  },
  {
   "cell_type": "code",
   "execution_count": 13,
   "metadata": {},
   "outputs": [
    {
     "name": "stdout",
     "output_type": "stream",
     "text": [
      "_________________________________________________________________\n",
      "Layer (type)                 Output Shape              Param #   \n",
      "=================================================================\n",
      "image_input (InputLayer)     (None, 32, 32, 3)         0         \n",
      "_________________________________________________________________\n",
      "vgg16 (Model)                multiple                  14714688  \n",
      "_________________________________________________________________\n",
      "flatten (Flatten)            (None, 512)               0         \n",
      "_________________________________________________________________\n",
      "fc1 (Dense)                  (None, 512)               262656    \n",
      "_________________________________________________________________\n",
      "fc2 (Dense)                  (None, 128)               65664     \n",
      "_________________________________________________________________\n",
      "predictions (Dense)          (None, 10)                1290      \n",
      "=================================================================\n",
      "Total params: 15,044,298\n",
      "Trainable params: 15,044,298\n",
      "Non-trainable params: 0\n",
      "_________________________________________________________________\n"
     ]
    }
   ],
   "source": [
    "#In the summary, weights and layers from VGG part will be hidden, but they will be fit during the training\n",
    "my_model.summary()\n"
   ]
  },
  {
   "cell_type": "code",
   "execution_count": 14,
   "metadata": {},
   "outputs": [],
   "source": [
    "#If you want to change only the last layer :\n",
    "\n",
    "# Generate a model with all layers (with top)\n",
    "#vgg16 = VGG16(weights=None, include_top=True)\n",
    "\n",
    "#Add a layer where input is the output of the  second last layer \n",
    "#x = Dense(8, activation='softmax', name='predictions')(vgg16.layers[-2].output)\n",
    "\n",
    "#Then create the corresponding model \n",
    "#my_model = Model(input=vgg16.input, output=x)\n",
    "#my_model.summary()"
   ]
  },
  {
   "cell_type": "markdown",
   "metadata": {},
   "source": [
    "# 訓練模型"
   ]
  },
  {
   "cell_type": "code",
   "execution_count": 15,
   "metadata": {},
   "outputs": [],
   "source": [
    "from keras.models import optimizers\n",
    "\n",
    "#, beta_1=0.9, beta_2=0.999, epsilon=None, decay=0.0\n",
    "opt_adam = optimizers.Adam( lr=0.0001, beta_1=0.9, beta_2=0.99999, decay=0.00001 )"
   ]
  },
  {
   "cell_type": "code",
   "execution_count": 16,
   "metadata": {},
   "outputs": [],
   "source": [
    "my_model.compile(loss='categorical_crossentropy', optimizer= opt_adam, metrics=['accuracy'])"
   ]
  },
  {
   "cell_type": "code",
   "execution_count": 17,
   "metadata": {},
   "outputs": [
    {
     "name": "stdout",
     "output_type": "stream",
     "text": [
      "Train on 45000 samples, validate on 5000 samples\n",
      "Epoch 1/40\n",
      "45000/45000 [==============================] - 39s 859us/step - loss: 1.6417 - acc: 0.4231 - val_loss: 1.0868 - val_acc: 0.6186\n",
      "Epoch 2/40\n",
      "45000/45000 [==============================] - 29s 645us/step - loss: 0.9261 - acc: 0.6763 - val_loss: 0.7732 - val_acc: 0.7274\n",
      "Epoch 3/40\n",
      "45000/45000 [==============================] - 29s 645us/step - loss: 0.7042 - acc: 0.7553 - val_loss: 0.6891 - val_acc: 0.7610\n",
      "Epoch 4/40\n",
      "45000/45000 [==============================] - 29s 645us/step - loss: 0.6095 - acc: 0.7878 - val_loss: 0.6070 - val_acc: 0.7850\n",
      "Epoch 5/40\n",
      "45000/45000 [==============================] - 29s 645us/step - loss: 0.5064 - acc: 0.8220 - val_loss: 0.5553 - val_acc: 0.8026\n",
      "Epoch 6/40\n",
      "45000/45000 [==============================] - 29s 645us/step - loss: 0.4468 - acc: 0.8440 - val_loss: 0.5640 - val_acc: 0.8026\n",
      "Epoch 7/40\n",
      "45000/45000 [==============================] - 29s 645us/step - loss: 0.4049 - acc: 0.8582 - val_loss: 0.5374 - val_acc: 0.8154\n",
      "Epoch 8/40\n",
      "45000/45000 [==============================] - 29s 645us/step - loss: 0.3326 - acc: 0.8868 - val_loss: 0.5580 - val_acc: 0.8070\n",
      "Epoch 9/40\n",
      "45000/45000 [==============================] - 29s 646us/step - loss: 0.3031 - acc: 0.8954 - val_loss: 0.5227 - val_acc: 0.8204\n",
      "Epoch 10/40\n",
      "45000/45000 [==============================] - 29s 647us/step - loss: 0.2520 - acc: 0.9139 - val_loss: 0.5325 - val_acc: 0.8258\n",
      "Epoch 11/40\n",
      "45000/45000 [==============================] - 29s 647us/step - loss: 0.2040 - acc: 0.9310 - val_loss: 0.5382 - val_acc: 0.8246\n",
      "Epoch 12/40\n",
      "45000/45000 [==============================] - 29s 646us/step - loss: 0.1758 - acc: 0.9407 - val_loss: 0.5535 - val_acc: 0.8246\n",
      "Epoch 13/40\n",
      "45000/45000 [==============================] - 29s 645us/step - loss: 0.1619 - acc: 0.9454 - val_loss: 0.5922 - val_acc: 0.8226\n",
      "Epoch 14/40\n",
      "45000/45000 [==============================] - 29s 645us/step - loss: 0.1328 - acc: 0.9559 - val_loss: 0.6328 - val_acc: 0.8190\n",
      "Epoch 15/40\n",
      "45000/45000 [==============================] - 29s 644us/step - loss: 0.0958 - acc: 0.9703 - val_loss: 0.6252 - val_acc: 0.8352\n",
      "Epoch 16/40\n",
      "45000/45000 [==============================] - 29s 644us/step - loss: 0.0559 - acc: 0.9842 - val_loss: 0.6898 - val_acc: 0.8332\n",
      "Epoch 17/40\n",
      "45000/45000 [==============================] - 29s 645us/step - loss: 0.0444 - acc: 0.9881 - val_loss: 0.7377 - val_acc: 0.8308\n",
      "Epoch 18/40\n",
      "45000/45000 [==============================] - 29s 645us/step - loss: 0.0277 - acc: 0.9938 - val_loss: 0.7959 - val_acc: 0.8328\n",
      "Epoch 19/40\n",
      "45000/45000 [==============================] - 29s 645us/step - loss: 0.0188 - acc: 0.9958 - val_loss: 0.8553 - val_acc: 0.8280\n",
      "Epoch 20/40\n",
      "45000/45000 [==============================] - 29s 646us/step - loss: 0.2166 - acc: 0.9310 - val_loss: 0.5963 - val_acc: 0.7918\n",
      "Epoch 21/40\n",
      "45000/45000 [==============================] - 29s 646us/step - loss: 0.1745 - acc: 0.9392 - val_loss: 0.6276 - val_acc: 0.8332\n",
      "Epoch 22/40\n",
      "45000/45000 [==============================] - 29s 646us/step - loss: 0.0672 - acc: 0.9786 - val_loss: 0.7713 - val_acc: 0.8230\n",
      "Epoch 23/40\n",
      "45000/45000 [==============================] - 29s 642us/step - loss: 0.0457 - acc: 0.9861 - val_loss: 0.7315 - val_acc: 0.8412\n",
      "Epoch 24/40\n",
      "45000/45000 [==============================] - 29s 634us/step - loss: 0.0104 - acc: 0.9986 - val_loss: 0.8215 - val_acc: 0.8418\n",
      "Epoch 25/40\n",
      "45000/45000 [==============================] - 29s 634us/step - loss: 0.0038 - acc: 0.9996 - val_loss: 0.8976 - val_acc: 0.8452\n",
      "Epoch 26/40\n",
      "45000/45000 [==============================] - 28s 633us/step - loss: 0.0016 - acc: 0.9999 - val_loss: 0.9274 - val_acc: 0.8488\n",
      "Epoch 27/40\n",
      "45000/45000 [==============================] - 28s 632us/step - loss: 8.2653e-04 - acc: 1.0000 - val_loss: 0.9582 - val_acc: 0.8476\n",
      "Epoch 28/40\n",
      "45000/45000 [==============================] - 28s 632us/step - loss: 5.4232e-04 - acc: 1.0000 - val_loss: 0.9849 - val_acc: 0.8464\n",
      "Epoch 29/40\n",
      "45000/45000 [==============================] - 28s 632us/step - loss: 4.2584e-04 - acc: 1.0000 - val_loss: 1.0032 - val_acc: 0.8476\n",
      "Epoch 30/40\n",
      "45000/45000 [==============================] - 28s 632us/step - loss: 3.5525e-04 - acc: 1.0000 - val_loss: 1.0195 - val_acc: 0.8474\n",
      "Epoch 31/40\n",
      "45000/45000 [==============================] - 28s 632us/step - loss: 3.1122e-04 - acc: 1.0000 - val_loss: 1.0334 - val_acc: 0.8468\n",
      "Epoch 32/40\n",
      "45000/45000 [==============================] - 29s 633us/step - loss: 2.7214e-04 - acc: 1.0000 - val_loss: 1.0469 - val_acc: 0.8468\n",
      "Epoch 33/40\n",
      "45000/45000 [==============================] - 28s 633us/step - loss: 2.3978e-04 - acc: 1.0000 - val_loss: 1.0601 - val_acc: 0.8462\n",
      "Epoch 34/40\n",
      "45000/45000 [==============================] - 28s 633us/step - loss: 2.1503e-04 - acc: 1.0000 - val_loss: 1.0697 - val_acc: 0.8468\n",
      "Epoch 35/40\n",
      "45000/45000 [==============================] - 28s 633us/step - loss: 1.9487e-04 - acc: 1.0000 - val_loss: 1.0802 - val_acc: 0.8460\n",
      "Epoch 36/40\n",
      "45000/45000 [==============================] - 28s 633us/step - loss: 1.7686e-04 - acc: 1.0000 - val_loss: 1.0893 - val_acc: 0.8460\n",
      "Epoch 37/40\n",
      "45000/45000 [==============================] - 28s 632us/step - loss: 1.6294e-04 - acc: 1.0000 - val_loss: 1.0981 - val_acc: 0.8460\n",
      "Epoch 38/40\n",
      "45000/45000 [==============================] - 28s 632us/step - loss: 1.4978e-04 - acc: 1.0000 - val_loss: 1.1054 - val_acc: 0.8460\n",
      "Epoch 39/40\n",
      "45000/45000 [==============================] - 28s 632us/step - loss: 1.3895e-04 - acc: 1.0000 - val_loss: 1.1136 - val_acc: 0.8458\n",
      "Epoch 40/40\n",
      "45000/45000 [==============================] - 28s 632us/step - loss: 1.2970e-04 - acc: 1.0000 - val_loss: 1.1206 - val_acc: 0.8454\n"
     ]
    }
   ],
   "source": [
    "train_history=my_model.fit(X_img_train_normalize, y_label_train_OneHot,\n",
    "                        validation_split=0.1,\n",
    "                        epochs=40, batch_size=2000, verbose=1)          "
   ]
  },
  {
   "cell_type": "code",
   "execution_count": 18,
   "metadata": {},
   "outputs": [],
   "source": [
    "import matplotlib.pyplot as plt\n",
    "def show_train_history(train_token,test_token):\n",
    "    plt.plot(train_history.history[train_token])\n",
    "    plt.plot(train_history.history[test_token])\n",
    "    plt.title('Train History')\n",
    "    #plt.ylabel('Accuracy')\n",
    "    plt.ylabel(train_token)\n",
    "    plt.xlabel('Epoch')\n",
    "    plt.legend([train_token, test_token], loc='upper left')\n",
    "    plt.show()"
   ]
  },
  {
   "cell_type": "code",
   "execution_count": 19,
   "metadata": {},
   "outputs": [
    {
     "data": {
      "image/png": "[encoded data removed]",
      "text/plain": [
       "<matplotlib.figure.Figure at 0x1a056f4fb38>"
      ]
     },
     "metadata": {},
     "output_type": "display_data"
    }
   ],
   "source": [
    "show_train_history('acc','val_acc')"
   ]
  },
  {
   "cell_type": "code",
   "execution_count": 20,
   "metadata": {},
   "outputs": [
    {
     "data": {
      "image/png": "[encoded data removed]",
      "text/plain": [
       "<matplotlib.figure.Figure at 0x1a19b97efd0>"
      ]
     },
     "metadata": {},
     "output_type": "display_data"
    }
   ],
   "source": [
    "show_train_history('loss','val_loss')"
   ]
  },
  {
   "cell_type": "markdown",
   "metadata": {},
   "source": [
    "# 評估模型準確率"
   ]
  },
  {
   "cell_type": "code",
   "execution_count": 21,
   "metadata": {},
   "outputs": [
    {
     "data": {
      "text/plain": [
       "0.84350000000000003"
      ]
     },
     "execution_count": 21,
     "metadata": {},
     "output_type": "execute_result"
    }
   ],
   "source": [
    "scores = my_model.evaluate(X_img_test_normalize, \n",
    "                        y_label_test_OneHot,verbose=0)\n",
    "scores[1]"
   ]
  },
  {
   "cell_type": "markdown",
   "metadata": {},
   "source": [
    "# 進行預測"
   ]
  },
  {
   "cell_type": "code",
   "execution_count": 22,
   "metadata": {},
   "outputs": [],
   "source": [
    "pred=my_model.predict(X_img_test_normalize)"
   ]
  },
  {
   "cell_type": "code",
   "execution_count": 23,
   "metadata": {},
   "outputs": [
    {
     "data": {
      "text/plain": [
       "array([  1.40380054e-16,   2.50224808e-13,   9.47390470e-18,\n",
       "         9.99999881e-01,   3.98139441e-18,   1.77899409e-07,\n",
       "         1.58554680e-12,   4.00018636e-15,   1.73955385e-19,\n",
       "         1.83101871e-17], dtype=float32)"
      ]
     },
     "execution_count": 23,
     "metadata": {},
     "output_type": "execute_result"
    }
   ],
   "source": [
    "pred[0]"
   ]
  },
  {
   "cell_type": "code",
   "execution_count": 24,
   "metadata": {},
   "outputs": [],
   "source": [
    "prediction = numpy.empty(10000)\n",
    "for i in range(pred.shape[0]):\n",
    "    prediction[i] = np.argmax(pred[i])"
   ]
  },
  {
   "cell_type": "code",
   "execution_count": 25,
   "metadata": {},
   "outputs": [
    {
     "data": {
      "text/plain": [
       "3.0"
      ]
     },
     "execution_count": 25,
     "metadata": {},
     "output_type": "execute_result"
    }
   ],
   "source": [
    "prediction[0]"
   ]
  },
  {
   "cell_type": "code",
   "execution_count": 26,
   "metadata": {},
   "outputs": [],
   "source": [
    "label_dict={0:\"airplane\",1:\"automobile\",2:\"bird\",3:\"cat\",4:\"deer\",\n",
    "            5:\"dog\",6:\"frog\",7:\"horse\",8:\"ship\",9:\"truck\"}"
   ]
  },
  {
   "cell_type": "code",
   "execution_count": 27,
   "metadata": {},
   "outputs": [],
   "source": [
    "import matplotlib.pyplot as plt\n",
    "\n",
    "def plot_images_labels_prediction(images,labels,prediction,idx,num=10):\n",
    "    fig = plt.gcf()\n",
    "    fig.set_size_inches(12, 14)\n",
    "    if num>25: num=25 \n",
    "    for i in range(idx, idx+num):\n",
    "        ax=plt.subplot(5,5, 1+(i-idx))\n",
    "        ax.imshow(images[i],cmap='binary')\n",
    "                \n",
    "        title=str(i)+','+label_dict[labels[i][0]]\n",
    "        if len(prediction)>0:\n",
    "            title+='=>'+label_dict[prediction[i]]\n",
    "            \n",
    "        ax.set_title(title,fontsize=10) \n",
    "        ax.set_xticks([]);ax.set_yticks([])        \n",
    "        #idx+=1 \n",
    "    plt.show()"
   ]
  },
  {
   "cell_type": "code",
   "execution_count": 28,
   "metadata": {},
   "outputs": [
    {
     "data": {
      "image/png": "[encoded data removed]",
      "text/plain": [
       "<matplotlib.figure.Figure at 0x1a19bc322e8>"
      ]
     },
     "metadata": {},
     "output_type": "display_data"
    }
   ],
   "source": [
    "plot_images_labels_prediction(X_img_test_normalize,y_label_test,\n",
    "                              prediction,30,10)"
   ]
  },
  {
   "cell_type": "markdown",
   "metadata": {},
   "source": [
    "# 查看預測機率"
   ]
  },
  {
   "cell_type": "code",
   "execution_count": 29,
   "metadata": {},
   "outputs": [],
   "source": [
    "Predicted_Probability=my_model.predict(X_img_test_normalize)"
   ]
  },
  {
   "cell_type": "code",
   "execution_count": 30,
   "metadata": {},
   "outputs": [],
   "source": [
    "def show_Predicted_Probability(X_img,Predicted_Probability,i):\n",
    "    plt.figure(figsize=(2,2))\n",
    "    plt.imshow(np.reshape(X_img_test[i],(32,32,3)))\n",
    "    plt.show()\n",
    "    for j in range(10):\n",
    "        print(label_dict[j]+' Probability:%1.9f'%(Predicted_Probability[i][j]))"
   ]
  },
  {
   "cell_type": "code",
   "execution_count": 31,
   "metadata": {},
   "outputs": [
    {
     "data": {
      "image/png": "[encoded data removed]",
      "text/plain": [
       "<matplotlib.figure.Figure at 0x1a19b942240>"
      ]
     },
     "metadata": {},
     "output_type": "display_data"
    },
    {
     "name": "stdout",
     "output_type": "stream",
     "text": [
      "airplane Probability:0.000000000\n",
      "automobile Probability:0.000000171\n",
      "bird Probability:0.000016292\n",
      "cat Probability:0.988624811\n",
      "deer Probability:0.000001396\n",
      "dog Probability:0.011357318\n",
      "frog Probability:0.000000041\n",
      "horse Probability:0.000000000\n",
      "ship Probability:0.000000003\n",
      "truck Probability:0.000000003\n"
     ]
    }
   ],
   "source": [
    "show_Predicted_Probability(X_img_test,Predicted_Probability,33)"
   ]
  },
  {
   "cell_type": "code",
   "execution_count": 32,
   "metadata": {},
   "outputs": [
    {
     "data": {
      "image/png": "[encoded data removed]",
      "text/plain": [
       "<matplotlib.figure.Figure at 0x1a19b96bba8>"
      ]
     },
     "metadata": {},
     "output_type": "display_data"
    },
    {
     "name": "stdout",
     "output_type": "stream",
     "text": [
      "airplane Probability:0.000000000\n",
      "automobile Probability:0.005386910\n",
      "bird Probability:0.000000000\n",
      "cat Probability:0.000000000\n",
      "deer Probability:0.000000000\n",
      "dog Probability:0.000000000\n",
      "frog Probability:0.000000000\n",
      "horse Probability:0.000000000\n",
      "ship Probability:0.000000000\n",
      "truck Probability:0.994613111\n"
     ]
    }
   ],
   "source": [
    "show_Predicted_Probability(X_img_test,Predicted_Probability,37)"
   ]
  },
  {
   "cell_type": "markdown",
   "metadata": {},
   "source": [
    "# confusion matrix"
   ]
  },
  {
   "cell_type": "code",
   "execution_count": 33,
   "metadata": {},
   "outputs": [
    {
     "name": "stdout",
     "output_type": "stream",
     "text": [
      "{0: 'airplane', 1: 'automobile', 2: 'bird', 3: 'cat', 4: 'deer', 5: 'dog', 6: 'frog', 7: 'horse', 8: 'ship', 9: 'truck'}\n"
     ]
    },
    {
     "data": {
      "text/html": [
       "<div>\n",
       "<style scoped>\n",
       "    .dataframe tbody tr th:only-of-type {\n",
       "        vertical-align: middle;\n",
       "    }\n",
       "\n",
       "    .dataframe tbody tr th {\n",
       "        vertical-align: top;\n",
       "    }\n",
       "\n",
       "    .dataframe thead th {\n",
       "        text-align: right;\n",
       "    }\n",
       "</style>\n",
       "<table border=\"1\" class=\"dataframe\">\n",
       "  <thead>\n",
       "    <tr style=\"text-align: right;\">\n",
       "      <th>predict</th>\n",
       "      <th>0.0</th>\n",
       "      <th>1.0</th>\n",
       "      <th>2.0</th>\n",
       "      <th>3.0</th>\n",
       "      <th>4.0</th>\n",
       "      <th>5.0</th>\n",
       "      <th>6.0</th>\n",
       "      <th>7.0</th>\n",
       "      <th>8.0</th>\n",
       "      <th>9.0</th>\n",
       "    </tr>\n",
       "    <tr>\n",
       "      <th>label</th>\n",
       "      <th></th>\n",
       "      <th></th>\n",
       "      <th></th>\n",
       "      <th></th>\n",
       "      <th></th>\n",
       "      <th></th>\n",
       "      <th></th>\n",
       "      <th></th>\n",
       "      <th></th>\n",
       "      <th></th>\n",
       "    </tr>\n",
       "  </thead>\n",
       "  <tbody>\n",
       "    <tr>\n",
       "      <th>0</th>\n",
       "      <td>879</td>\n",
       "      <td>9</td>\n",
       "      <td>20</td>\n",
       "      <td>14</td>\n",
       "      <td>11</td>\n",
       "      <td>1</td>\n",
       "      <td>4</td>\n",
       "      <td>9</td>\n",
       "      <td>33</td>\n",
       "      <td>20</td>\n",
       "    </tr>\n",
       "    <tr>\n",
       "      <th>1</th>\n",
       "      <td>11</td>\n",
       "      <td>916</td>\n",
       "      <td>2</td>\n",
       "      <td>4</td>\n",
       "      <td>1</td>\n",
       "      <td>1</td>\n",
       "      <td>5</td>\n",
       "      <td>2</td>\n",
       "      <td>10</td>\n",
       "      <td>48</td>\n",
       "    </tr>\n",
       "    <tr>\n",
       "      <th>2</th>\n",
       "      <td>40</td>\n",
       "      <td>1</td>\n",
       "      <td>789</td>\n",
       "      <td>39</td>\n",
       "      <td>54</td>\n",
       "      <td>26</td>\n",
       "      <td>29</td>\n",
       "      <td>16</td>\n",
       "      <td>3</td>\n",
       "      <td>3</td>\n",
       "    </tr>\n",
       "    <tr>\n",
       "      <th>3</th>\n",
       "      <td>8</td>\n",
       "      <td>7</td>\n",
       "      <td>42</td>\n",
       "      <td>717</td>\n",
       "      <td>41</td>\n",
       "      <td>122</td>\n",
       "      <td>28</td>\n",
       "      <td>18</td>\n",
       "      <td>7</td>\n",
       "      <td>10</td>\n",
       "    </tr>\n",
       "    <tr>\n",
       "      <th>4</th>\n",
       "      <td>7</td>\n",
       "      <td>2</td>\n",
       "      <td>31</td>\n",
       "      <td>45</td>\n",
       "      <td>837</td>\n",
       "      <td>18</td>\n",
       "      <td>25</td>\n",
       "      <td>28</td>\n",
       "      <td>4</td>\n",
       "      <td>3</td>\n",
       "    </tr>\n",
       "    <tr>\n",
       "      <th>5</th>\n",
       "      <td>6</td>\n",
       "      <td>3</td>\n",
       "      <td>24</td>\n",
       "      <td>142</td>\n",
       "      <td>30</td>\n",
       "      <td>742</td>\n",
       "      <td>15</td>\n",
       "      <td>29</td>\n",
       "      <td>4</td>\n",
       "      <td>5</td>\n",
       "    </tr>\n",
       "    <tr>\n",
       "      <th>6</th>\n",
       "      <td>6</td>\n",
       "      <td>5</td>\n",
       "      <td>20</td>\n",
       "      <td>39</td>\n",
       "      <td>17</td>\n",
       "      <td>13</td>\n",
       "      <td>891</td>\n",
       "      <td>2</td>\n",
       "      <td>6</td>\n",
       "      <td>1</td>\n",
       "    </tr>\n",
       "    <tr>\n",
       "      <th>7</th>\n",
       "      <td>10</td>\n",
       "      <td>0</td>\n",
       "      <td>16</td>\n",
       "      <td>31</td>\n",
       "      <td>34</td>\n",
       "      <td>36</td>\n",
       "      <td>3</td>\n",
       "      <td>858</td>\n",
       "      <td>6</td>\n",
       "      <td>6</td>\n",
       "    </tr>\n",
       "    <tr>\n",
       "      <th>8</th>\n",
       "      <td>32</td>\n",
       "      <td>11</td>\n",
       "      <td>9</td>\n",
       "      <td>8</td>\n",
       "      <td>3</td>\n",
       "      <td>1</td>\n",
       "      <td>1</td>\n",
       "      <td>0</td>\n",
       "      <td>921</td>\n",
       "      <td>14</td>\n",
       "    </tr>\n",
       "    <tr>\n",
       "      <th>9</th>\n",
       "      <td>22</td>\n",
       "      <td>52</td>\n",
       "      <td>5</td>\n",
       "      <td>5</td>\n",
       "      <td>1</td>\n",
       "      <td>3</td>\n",
       "      <td>4</td>\n",
       "      <td>6</td>\n",
       "      <td>17</td>\n",
       "      <td>885</td>\n",
       "    </tr>\n",
       "  </tbody>\n",
       "</table>\n",
       "</div>"
      ],
      "text/plain": [
       "predict  0.0  1.0  2.0  3.0  4.0  5.0  6.0  7.0  8.0  9.0\n",
       "label                                                    \n",
       "0        879    9   20   14   11    1    4    9   33   20\n",
       "1         11  916    2    4    1    1    5    2   10   48\n",
       "2         40    1  789   39   54   26   29   16    3    3\n",
       "3          8    7   42  717   41  122   28   18    7   10\n",
       "4          7    2   31   45  837   18   25   28    4    3\n",
       "5          6    3   24  142   30  742   15   29    4    5\n",
       "6          6    5   20   39   17   13  891    2    6    1\n",
       "7         10    0   16   31   34   36    3  858    6    6\n",
       "8         32   11    9    8    3    1    1    0  921   14\n",
       "9         22   52    5    5    1    3    4    6   17  885"
      ]
     },
     "execution_count": 33,
     "metadata": {},
     "output_type": "execute_result"
    }
   ],
   "source": [
    "import pandas as pd\n",
    "print(label_dict)\n",
    "pd.crosstab(y_label_test.reshape(-1),prediction,\n",
    "            rownames=['label'],colnames=['predict'])"
   ]
  },
  {
   "cell_type": "markdown",
   "metadata": {},
   "source": [
    "# Save model to JSON"
   ]
  },
  {
   "cell_type": "code",
   "execution_count": 34,
   "metadata": {},
   "outputs": [],
   "source": [
    "model_json = my_model.to_json()\n",
    "with open(\"SaveModel/cifarVGG16Model.json\", \"w\") as json_file:\n",
    "    json_file.write(model_json)"
   ]
  },
  {
   "cell_type": "markdown",
   "metadata": {},
   "source": [
    "# Save Model to YAML"
   ]
  },
  {
   "cell_type": "code",
   "execution_count": 35,
   "metadata": {},
   "outputs": [],
   "source": [
    "model_yaml = my_model.to_yaml()\n",
    "with open(\"SaveModel/cifarVGG16Model.yaml\", \"w\") as yaml_file:\n",
    "    yaml_file.write(model_yaml)\n"
   ]
  },
  {
   "cell_type": "markdown",
   "metadata": {},
   "source": [
    "# Save Weight to h5 "
   ]
  },
  {
   "cell_type": "code",
   "execution_count": 36,
   "metadata": {},
   "outputs": [
    {
     "name": "stdout",
     "output_type": "stream",
     "text": [
      "Saved model to disk\n"
     ]
    }
   ],
   "source": [
    "my_model.save_weights(\"SaveModel/cifarVGG16Model.h5\")\n",
    "print(\"Saved model to disk\")"
   ]
  },
  {
   "cell_type": "code",
   "execution_count": null,
   "metadata": {
    "collapsed": true
   },
   "outputs": [],
   "source": []
  }
 ],
 "metadata": {
  "anaconda-cloud": {},
  "kernelspec": {
   "display_name": "Python 3",
   "language": "python",
   "name": "python3"
  },
  "language_info": {
   "codemirror_mode": {
    "name": "ipython",
    "version": 3
   },
   "file_extension": ".py",
   "mimetype": "text/x-python",
   "name": "python",
   "nbconvert_exporter": "python",
   "pygments_lexer": "ipython3",
   "version": "3.5.4"
  }
 },
 "nbformat": 4,
 "nbformat_minor": 1
}
